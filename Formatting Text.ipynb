{
 "cells": [
  {
   "cell_type": "markdown",
   "metadata": {},
   "source": [
    "## Question 1"
   ]
  },
  {
   "cell_type": "markdown",
   "metadata": {},
   "source": [
    "Implement the dynamic programming text formatting algorithm described in class.  We encourage you to debug your code on simple examples. Submit the solution you obtain (both the formatting and cost) for line widths of W = 30, W = 50 and W= 70."
   ]
  },
  {
   "cell_type": "markdown",
   "metadata": {},
   "source": [
    "Sample Input:"
   ]
  },
  {
   "cell_type": "markdown",
   "metadata": {},
   "source": [
    "Below is the text from the front of a Mother's day card that I was given back in 1997. It is hanging on my door. It has a picture of a woman wearing an apron in her kitchen in what looks like something from the 40s. I thought this would make something more interesting than random text to use for this homework. Here is the text. \"Here's Mother. She is in the kitchen making supper. Before that she was in the bathroom scrubbing soap scum off the shower. This morning she did 12 loads of laundry and developed a computer program that calculates optimum carpool routes. Clever, clever Mother!\""
   ]
  },
  {
   "cell_type": "markdown",
   "metadata": {},
   "source": [
    "Input the text as a single line with spaces as the delimiter between words. Please treat all characters not separated by spaces as a single word. So for example, the last three words are of length 7 (Clever,), length 6 (clever) and length 8 (Mother!\"). You may use any programming language and it doesn't matter how you get this input into your program. Note that you are to format the entire text given, including the text that comes before the quote from the card."
   ]
  },
  {
   "cell_type": "code",
   "execution_count": 143,
   "metadata": {},
   "outputs": [],
   "source": [
    "def _cost(i, w, words, known_costs=None):\n",
    "    if not known_costs:\n",
    "        known_costs = [None] * len(words)\n",
    "    \n",
    "    curr_width = 0\n",
    "    \n",
    "    temp_costs = []  # (cost, line-break)\n",
    "    \n",
    "    if known_costs[i]:\n",
    "        return known_costs[i]\n",
    "    \n",
    "    for j in range(i, len(words)):\n",
    "        curr_cost = None   # TBD\n",
    "        \n",
    "        word = words[j]\n",
    "        \n",
    "        if curr_width == 0:\n",
    "            curr_width += len(word)\n",
    "        else:\n",
    "            curr_width += len(word) + 1\n",
    "        \n",
    "        if curr_width > w:\n",
    "            break\n",
    "            \n",
    "        if j == len(words)-1:\n",
    "            curr_cost = 0\n",
    "        else:\n",
    "            curr_cost = (w-curr_width)**2 + _cost(j+1, w, words, known_costs)[0]\n",
    "        \n",
    "        temp_costs.append((curr_cost, j))\n",
    "    \n",
    "    temp_costs.sort(key = lambda x: x[0])\n",
    "    \n",
    "    return temp_costs[0]    # Min cost and line-break"
   ]
  },
  {
   "cell_type": "code",
   "execution_count": 144,
   "metadata": {},
   "outputs": [
    {
     "name": "stdout",
     "output_type": "stream",
     "text": [
      "ALL TEST CASES PASSED\n"
     ]
    }
   ],
   "source": [
    "from nose.tools import assert_equal\n",
    "\n",
    "class CostTest(object):\n",
    "    def test(self, solution):\n",
    "        s = \"Why do ghosts make great cheerleaders? Because they have a lot of spirit.\"\n",
    "        words = s.split()\n",
    "        w = 18\n",
    "        \n",
    "        assert_equal(solution(12, w, words), (0, 12))\n",
    "        assert_equal(solution(11, w, words), (0, 12))\n",
    "        assert_equal(solution(10, w, words), (0, 12))\n",
    "        assert_equal(solution(9, w, words), (0, 12))\n",
    "        assert_equal(solution(8, w, words), (25, 11))\n",
    "        assert_equal(solution(7, w, words), (0, 11))\n",
    "        assert_equal(solution(6, w, words), (1, 8))\n",
    "        assert_equal(solution(5, w, words), (26, 5))\n",
    "        assert_equal(solution(4, w, words), (195, 4))\n",
    "        assert_equal(solution(3, w, words), (90, 4))\n",
    "        assert_equal(solution(2, w, words), (27, 4))\n",
    "        assert_equal(solution(1, w, words), (171, 2))\n",
    "        \n",
    "        print('ALL TEST CASES PASSED')\n",
    "\n",
    "# Run the tests\n",
    "t = CostTest()\n",
    "t.test(_cost)"
   ]
  },
  {
   "cell_type": "code",
   "execution_count": 145,
   "metadata": {},
   "outputs": [],
   "source": [
    "def format(s, w):\n",
    "    \"\"\"Returns the formatted text with its line break.\"\"\"\n",
    "    \n",
    "    words = s.split()\n",
    "    costs = [None] * len(words)    # (cost, line-break)\n",
    "    \n",
    "    for i in range(len(words)-1, -1, -1):\n",
    "        costs[i] = _cost(i, w, words, costs)\n",
    "    \n",
    "    formatted_s = ''\n",
    "    j = 0\n",
    "    \n",
    "    while j < len(words):\n",
    "        line_break = costs[j][1] + 1\n",
    "        formatted_s += ' '.join(words[j:line_break]) + '\\n'\n",
    "        j = line_break\n",
    "    \n",
    "    print(formatted_s)"
   ]
  },
  {
   "cell_type": "code",
   "execution_count": 146,
   "metadata": {},
   "outputs": [],
   "source": [
    "s = \"Why do ghosts make great cheerleaders? Because they have a lot of spirit.\""
   ]
  },
  {
   "cell_type": "code",
   "execution_count": 147,
   "metadata": {},
   "outputs": [
    {
     "name": "stdout",
     "output_type": "stream",
     "text": [
      "Why do ghosts\n",
      "make great\n",
      "cheerleaders?\n",
      "Because they have\n",
      "a lot of spirit.\n",
      "\n"
     ]
    }
   ],
   "source": [
    "format(s, 18)"
   ]
  },
  {
   "cell_type": "code",
   "execution_count": 148,
   "metadata": {},
   "outputs": [],
   "source": [
    "s = \"Below is the text from the front of a Mother's day card that I was given back in 1997. It is hanging on my door. It has a picture of a woman wearing an apron in her kitchen in what looks like something from the 40s. I thought this would make something more interesting than random text to use for this homework. Here is the text. \\\"Here's Mother. She is in the kitchen making supper. Before that she was in the bathroom scrubbing soap scum off the shower. This morning she did 12 loads of laundry and developed a computer program that calculates optimum carpool routes. Clever, clever Mother!\\\"\""
   ]
  },
  {
   "cell_type": "code",
   "execution_count": 149,
   "metadata": {},
   "outputs": [
    {
     "name": "stdout",
     "output_type": "stream",
     "text": [
      "Below is the text from the\n",
      "front of a Mother's day card\n",
      "that I was given back in\n",
      "1997. It is hanging on my\n",
      "door. It has a picture of\n",
      "a woman wearing an apron in\n",
      "her kitchen in what looks\n",
      "like something from the 40s.\n",
      "I thought this would make\n",
      "something more interesting\n",
      "than random text to use for\n",
      "this homework. Here is the\n",
      "text. \"Here's Mother. She is\n",
      "in the kitchen making supper.\n",
      "Before that she was in the\n",
      "bathroom scrubbing soap scum\n",
      "off the shower. This morning\n",
      "she did 12 loads of laundry\n",
      "and developed a computer\n",
      "program that calculates\n",
      "optimum carpool routes.\n",
      "Clever, clever Mother!\"\n",
      "\n"
     ]
    }
   ],
   "source": [
    "format(s, 30)"
   ]
  },
  {
   "cell_type": "code",
   "execution_count": 150,
   "metadata": {},
   "outputs": [
    {
     "name": "stdout",
     "output_type": "stream",
     "text": [
      "Below is the text from the front of a Mother's day\n",
      "card that I was given back in 1997. It is hanging\n",
      "on my door. It has a picture of a woman wearing an\n",
      "apron in her kitchen in what looks like something\n",
      "from the 40s. I thought this would make something\n",
      "more interesting than random text to use for this\n",
      "homework. Here is the text. \"Here's Mother. She\n",
      "is in the kitchen making supper. Before that she\n",
      "was in the bathroom scrubbing soap scum off the\n",
      "shower. This morning she did 12 loads of laundry\n",
      "and developed a computer program that calculates\n",
      "optimum carpool routes. Clever, clever Mother!\"\n",
      "\n"
     ]
    }
   ],
   "source": [
    "format(s, 50)"
   ]
  },
  {
   "cell_type": "code",
   "execution_count": 151,
   "metadata": {},
   "outputs": [
    {
     "name": "stdout",
     "output_type": "stream",
     "text": [
      "Below is the text from the front of a Mother's day card that I was\n",
      "given back in 1997. It is hanging on my door. It has a picture of a\n",
      "woman wearing an apron in her kitchen in what looks like something\n",
      "from the 40s. I thought this would make something more interesting\n",
      "than random text to use for this homework. Here is the text. \"Here's\n",
      "Mother. She is in the kitchen making supper. Before that she was in\n",
      "the bathroom scrubbing soap scum off the shower. This morning she did\n",
      "12 loads of laundry and developed a computer program that calculates\n",
      "optimum carpool routes. Clever, clever Mother!\"\n",
      "\n"
     ]
    }
   ],
   "source": [
    "format(s, 70)"
   ]
  },
  {
   "cell_type": "code",
   "execution_count": 152,
   "metadata": {},
   "outputs": [
    {
     "name": "stdout",
     "output_type": "stream",
     "text": [
      "Below is the text from the front of a Mother's day card that I was given back\n",
      "in 1997. It is hanging on my door. It has a picture of a woman wearing an apron\n",
      "in her kitchen in what looks like something from the 40s. I thought this would\n",
      "make something more interesting than random text to use for this homework. Here\n",
      "is the text. \"Here's Mother. She is in the kitchen making supper. Before that\n",
      "she was in the bathroom scrubbing soap scum off the shower. This morning she\n",
      "did 12 loads of laundry and developed a computer program that calculates optimum\n",
      "carpool routes. Clever, clever Mother!\"\n",
      "\n"
     ]
    }
   ],
   "source": [
    "format(s, 80)"
   ]
  },
  {
   "cell_type": "code",
   "execution_count": 153,
   "metadata": {},
   "outputs": [
    {
     "name": "stdout",
     "output_type": "stream",
     "text": [
      "Below is the\n",
      "text from the\n",
      "front of a\n",
      "Mother's day\n",
      "card that I\n",
      "was given back\n",
      "in 1997. It is\n",
      "hanging on my\n",
      "door. It has\n",
      "a picture of a\n",
      "woman wearing\n",
      "an apron in\n",
      "her kitchen\n",
      "in what looks\n",
      "like something\n",
      "from the 40s.\n",
      "I thought this\n",
      "would make\n",
      "something more\n",
      "interesting\n",
      "than random\n",
      "text to use for\n",
      "this homework.\n",
      "Here is the\n",
      "text. \"Here's\n",
      "Mother. She is\n",
      "in the kitchen\n",
      "making supper.\n",
      "Before that\n",
      "she was in\n",
      "the bathroom\n",
      "scrubbing soap\n",
      "scum off the\n",
      "shower. This\n",
      "morning she\n",
      "did 12 loads\n",
      "of laundry\n",
      "and developed\n",
      "a computer\n",
      "program that\n",
      "calculates\n",
      "optimum carpool\n",
      "routes. Clever,\n",
      "clever Mother!\"\n",
      "\n"
     ]
    }
   ],
   "source": [
    "format(s, 15)"
   ]
  },
  {
   "cell_type": "code",
   "execution_count": null,
   "metadata": {},
   "outputs": [],
   "source": []
  }
 ],
 "metadata": {
  "kernelspec": {
   "display_name": "Python 3",
   "language": "python",
   "name": "python3"
  },
  "language_info": {
   "codemirror_mode": {
    "name": "ipython",
    "version": 3
   },
   "file_extension": ".py",
   "mimetype": "text/x-python",
   "name": "python",
   "nbconvert_exporter": "python",
   "pygments_lexer": "ipython3",
   "version": "3.6.4"
  }
 },
 "nbformat": 4,
 "nbformat_minor": 2
}
